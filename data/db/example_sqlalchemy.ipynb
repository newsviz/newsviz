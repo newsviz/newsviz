{
 "cells": [
  {
   "cell_type": "markdown",
   "metadata": {},
   "source": [
    "# Краткий туториал по работе с SQLAlchemy"
   ]
  },
  {
   "cell_type": "code",
   "execution_count": 12,
   "metadata": {},
   "outputs": [],
   "source": [
    "# Подгрузим нужные библиотеки\n",
    "from sqlalchemy import create_engine\n",
    "from sqlalchemy.orm import sessionmaker\n",
    "import datetime\n",
    "\n",
    "from models import News\n",
    "import uuid"
   ]
  },
  {
   "cell_type": "code",
   "execution_count": null,
   "metadata": {},
   "outputs": [],
   "source": []
  },
  {
   "cell_type": "markdown",
   "metadata": {},
   "source": [
    "Инициируем нашу БД. Вообще тут грубый вариант, правильный вариант нужно сделать, инициализацию в отдельном модуле, классе"
   ]
  },
  {
   "cell_type": "code",
   "execution_count": 13,
   "metadata": {},
   "outputs": [],
   "source": [
    "engine = create_engine('sqlite:///newsviz.sqlite', echo=True)\n",
    "Session = sessionmaker(bind=engine)\n",
    "Session = sessionmaker()\n",
    "Session.configure(bind=engine)\n",
    "# Открыли сессию для записи\n",
    "session = Session()"
   ]
  },
  {
   "cell_type": "code",
   "execution_count": null,
   "metadata": {},
   "outputs": [],
   "source": []
  },
  {
   "cell_type": "markdown",
   "metadata": {},
   "source": [
    "Пример вставки одной записи. Используется функция **.add**"
   ]
  },
  {
   "cell_type": "code",
   "execution_count": 4,
   "metadata": {},
   "outputs": [],
   "source": [
    "news = News(id=str(uuid.uuid4()), date='2020-12-07', topic='sport', text=\"{'москва': 1, '30': 1, 'апрель': 2}\", created_at=datetime.date.today(), updated_at=datetime.date.today())"
   ]
  },
  {
   "cell_type": "code",
   "execution_count": 5,
   "metadata": {},
   "outputs": [],
   "source": [
    "session.add(news)"
   ]
  },
  {
   "cell_type": "code",
   "execution_count": null,
   "metadata": {},
   "outputs": [],
   "source": []
  },
  {
   "cell_type": "markdown",
   "metadata": {},
   "source": [
    "Пример множественной ставки нескольких записей с помощью функцию **add_all**"
   ]
  },
  {
   "cell_type": "code",
   "execution_count": 6,
   "metadata": {},
   "outputs": [],
   "source": [
    "session.add_all([\n",
    "    News(id=str(uuid.uuid4()), date='2020-12-07', topic='sport', text=\"{'москва': 1, '30': 1, 'апрель': 2}\", created_at=datetime.date.today(), updated_at=datetime.date.today()),\n",
    "    News(id=str(uuid.uuid4()), date='2020-12-06', topic='sport', text=\"{'москва': 1, '30': 13, 'апрель': 2}\", created_at=datetime.date.today(), updated_at=datetime.date.today()),\n",
    "    News(id=str(uuid.uuid4()), date='2020-12-05', topic='moscow', text=\"{'москва': 1, '30': 1, 'апрель': 2}\", created_at=datetime.date.today(), updated_at=datetime.date.today())])"
   ]
  },
  {
   "cell_type": "code",
   "execution_count": 7,
   "metadata": {},
   "outputs": [
    {
     "name": "stdout",
     "output_type": "stream",
     "text": [
      "2020-12-08 20:57:58,821 INFO sqlalchemy.engine.base.Engine SELECT CAST('test plain returns' AS VARCHAR(60)) AS anon_1\n",
      "2020-12-08 20:57:58,822 INFO sqlalchemy.engine.base.Engine ()\n",
      "2020-12-08 20:57:58,823 INFO sqlalchemy.engine.base.Engine SELECT CAST('test unicode returns' AS VARCHAR(60)) AS anon_1\n",
      "2020-12-08 20:57:58,824 INFO sqlalchemy.engine.base.Engine ()\n",
      "2020-12-08 20:57:58,826 INFO sqlalchemy.engine.base.Engine BEGIN (implicit)\n",
      "2020-12-08 20:57:58,829 INFO sqlalchemy.engine.base.Engine INSERT INTO news (created_at, updated_at, id, date, topic, text) VALUES (?, ?, ?, ?, ?, ?)\n",
      "2020-12-08 20:57:58,830 INFO sqlalchemy.engine.base.Engine (('2020-12-08 00:00:00.000000', '2020-12-08 00:00:00.000000', 'a6eeda0e-7526-4441-a09a-9deffe3a97df', '2020-12-07', 'sport', \"{'москва': 1, '30': 1, 'апрель': 2}\"), ('2020-12-08 00:00:00.000000', '2020-12-08 00:00:00.000000', '8fc5ce3d-6583-4986-988a-4e2afed2704f', '2020-12-07', 'sport', \"{'москва': 1, '30': 1, 'апрель': 2}\"), ('2020-12-08 00:00:00.000000', '2020-12-08 00:00:00.000000', 'f4a20f27-ea5b-40cd-b56d-aa87d809e501', '2020-12-06', 'sport', \"{'москва': 1, '30': 13, 'апрель': 2}\"), ('2020-12-08 00:00:00.000000', '2020-12-08 00:00:00.000000', '025b5279-2479-44f6-a0cd-5998842292ff', '2020-12-05', 'moscow', \"{'москва': 1, '30': 1, 'апрель': 2}\"))\n",
      "2020-12-08 20:57:58,832 INFO sqlalchemy.engine.base.Engine COMMIT\n"
     ]
    }
   ],
   "source": [
    "# Закрываем запись в базу. Именно эта команда дает старт окончании транзакции, после ее выполнения данные запишуться\n",
    "# в базу данных\n",
    "session.commit()"
   ]
  },
  {
   "cell_type": "code",
   "execution_count": null,
   "metadata": {},
   "outputs": [],
   "source": []
  },
  {
   "cell_type": "code",
   "execution_count": 8,
   "metadata": {},
   "outputs": [
    {
     "name": "stdout",
     "output_type": "stream",
     "text": [
      "2020-12-08 20:58:09,373 INFO sqlalchemy.engine.base.Engine BEGIN (implicit)\n",
      "2020-12-08 20:58:09,374 INFO sqlalchemy.engine.base.Engine SELECT news.created_at AS news_created_at, news.updated_at AS news_updated_at, news.id AS news_id, news.date AS news_date, news.topic AS news_topic, news.text AS news_text \n",
      "FROM news ORDER BY news.id\n",
      "2020-12-08 20:58:09,376 INFO sqlalchemy.engine.base.Engine ()\n",
      "025b5279-2479-44f6-a0cd-5998842292ff 2020-12-05 moscow {'москва': 1, '30': 1, 'апрель': 2}\n",
      "05682b32-e282-499a-b76e-0a36b7537b82 2020-12-07 sport {'москва': 1, '30': 1, 'апрель': 2}\n",
      "7a3c0bf1-6ce3-403b-b2d7-36686b7c0a00 2020-12-07 sport {'москва': 1, '30': 1, 'апрель': 2}\n",
      "7ff54347-9325-467b-9f35-bac21f99464b 2020-12-05 moscow {'москва': 1, '30': 1, 'апрель': 2}\n",
      "856300d3-568b-4032-b6e2-1107a11486a7 2020-12-07 sport {'москва': 1, '30': 1, 'апрель': 2}\n",
      "8fc5ce3d-6583-4986-988a-4e2afed2704f 2020-12-07 sport {'москва': 1, '30': 1, 'апрель': 2}\n",
      "a6eeda0e-7526-4441-a09a-9deffe3a97df 2020-12-07 sport {'москва': 1, '30': 1, 'апрель': 2}\n",
      "ae17e90f-065a-49e7-b659-f2ab39435af0 2020-12-06 sport {'москва': 1, '30': 13, 'апрель': 2}\n",
      "b034fcc5-2adc-4a9b-a9b9-076c1f46e7a2 2020-12-07 sport {'москва': 1, '30': 1, 'апрель': 2}\n",
      "d3aa1c5f-adf8-41c5-8f13-1c9659aefde9 2020-12-07 sport {'москва': 1, '30': 1, 'апрель': 2}\n",
      "f4a20f27-ea5b-40cd-b56d-aa87d809e501 2020-12-06 sport {'москва': 1, '30': 13, 'апрель': 2}\n"
     ]
    }
   ],
   "source": [
    "# Пример вывода данных из базы\n",
    "for instance in session.query(News).order_by(News.id):\n",
    "    print(instance.id, instance.date, instance.topic, instance.text)"
   ]
  },
  {
   "cell_type": "code",
   "execution_count": null,
   "metadata": {},
   "outputs": [],
   "source": []
  },
  {
   "cell_type": "code",
   "execution_count": 9,
   "metadata": {},
   "outputs": [
    {
     "name": "stdout",
     "output_type": "stream",
     "text": [
      "2020-12-08 20:58:33,896 INFO sqlalchemy.engine.base.Engine SELECT news.created_at AS news_created_at, news.updated_at AS news_updated_at, news.id AS news_id, news.date AS news_date, news.topic AS news_topic, news.text AS news_text \n",
      "FROM news\n",
      "2020-12-08 20:58:33,898 INFO sqlalchemy.engine.base.Engine ()\n"
     ]
    }
   ],
   "source": [
    "# Еще один пример вывода\n",
    "news = session.query(News).all()"
   ]
  },
  {
   "cell_type": "code",
   "execution_count": 10,
   "metadata": {},
   "outputs": [
    {
     "name": "stdout",
     "output_type": "stream",
     "text": [
      "[<News(date='2020-12-07', topic='sport', text='{'москва': 1, '30': 1, 'апрель': 2}')>, <News(date='2020-12-07', topic='sport', text='{'москва': 1, '30': 1, 'апрель': 2}')>, <News(date='2020-12-07', topic='sport', text='{'москва': 1, '30': 1, 'апрель': 2}')>, <News(date='2020-12-07', topic='sport', text='{'москва': 1, '30': 1, 'апрель': 2}')>, <News(date='2020-12-07', topic='sport', text='{'москва': 1, '30': 1, 'апрель': 2}')>, <News(date='2020-12-06', topic='sport', text='{'москва': 1, '30': 13, 'апрель': 2}')>, <News(date='2020-12-05', topic='moscow', text='{'москва': 1, '30': 1, 'апрель': 2}')>, <News(date='2020-12-07', topic='sport', text='{'москва': 1, '30': 1, 'апрель': 2}')>, <News(date='2020-12-07', topic='sport', text='{'москва': 1, '30': 1, 'апрель': 2}')>, <News(date='2020-12-06', topic='sport', text='{'москва': 1, '30': 13, 'апрель': 2}')>, <News(date='2020-12-05', topic='moscow', text='{'москва': 1, '30': 1, 'апрель': 2}')>]\n"
     ]
    }
   ],
   "source": [
    "print(news)"
   ]
  },
  {
   "cell_type": "code",
   "execution_count": null,
   "metadata": {},
   "outputs": [],
   "source": []
  },
  {
   "cell_type": "code",
   "execution_count": 11,
   "metadata": {},
   "outputs": [
    {
     "name": "stdout",
     "output_type": "stream",
     "text": [
      "7a3c0bf1-6ce3-403b-b2d7-36686b7c0a00 sport 2020-12-07 {'москва': 1, '30': 1, 'апрель': 2}\n",
      "05682b32-e282-499a-b76e-0a36b7537b82 sport 2020-12-07 {'москва': 1, '30': 1, 'апрель': 2}\n",
      "d3aa1c5f-adf8-41c5-8f13-1c9659aefde9 sport 2020-12-07 {'москва': 1, '30': 1, 'апрель': 2}\n",
      "b034fcc5-2adc-4a9b-a9b9-076c1f46e7a2 sport 2020-12-07 {'москва': 1, '30': 1, 'апрель': 2}\n",
      "856300d3-568b-4032-b6e2-1107a11486a7 sport 2020-12-07 {'москва': 1, '30': 1, 'апрель': 2}\n",
      "ae17e90f-065a-49e7-b659-f2ab39435af0 sport 2020-12-06 {'москва': 1, '30': 13, 'апрель': 2}\n",
      "7ff54347-9325-467b-9f35-bac21f99464b moscow 2020-12-05 {'москва': 1, '30': 1, 'апрель': 2}\n",
      "a6eeda0e-7526-4441-a09a-9deffe3a97df sport 2020-12-07 {'москва': 1, '30': 1, 'апрель': 2}\n",
      "8fc5ce3d-6583-4986-988a-4e2afed2704f sport 2020-12-07 {'москва': 1, '30': 1, 'апрель': 2}\n",
      "f4a20f27-ea5b-40cd-b56d-aa87d809e501 sport 2020-12-06 {'москва': 1, '30': 13, 'апрель': 2}\n",
      "025b5279-2479-44f6-a0cd-5998842292ff moscow 2020-12-05 {'москва': 1, '30': 1, 'апрель': 2}\n"
     ]
    }
   ],
   "source": [
    "for item in news:\n",
    "    print(item.id, item.topic, item.date, item.text)"
   ]
  },
  {
   "cell_type": "code",
   "execution_count": null,
   "metadata": {},
   "outputs": [],
   "source": []
  },
  {
   "cell_type": "code",
   "execution_count": null,
   "metadata": {},
   "outputs": [],
   "source": []
  },
  {
   "cell_type": "code",
   "execution_count": null,
   "metadata": {},
   "outputs": [],
   "source": []
  },
  {
   "cell_type": "code",
   "execution_count": null,
   "metadata": {},
   "outputs": [],
   "source": []
  },
  {
   "cell_type": "code",
   "execution_count": null,
   "metadata": {},
   "outputs": [],
   "source": []
  },
  {
   "cell_type": "code",
   "execution_count": null,
   "metadata": {},
   "outputs": [],
   "source": []
  }
 ],
 "metadata": {
  "kernelspec": {
   "display_name": "Python 3",
   "language": "python",
   "name": "python3"
  },
  "language_info": {
   "codemirror_mode": {
    "name": "ipython",
    "version": 3
   },
   "file_extension": ".py",
   "mimetype": "text/x-python",
   "name": "python",
   "nbconvert_exporter": "python",
   "pygments_lexer": "ipython3",
   "version": "3.7.6"
  }
 },
 "nbformat": 4,
 "nbformat_minor": 4
}
